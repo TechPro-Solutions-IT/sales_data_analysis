{
 "cells": [
  {
   "cell_type": "markdown",
   "id": "fcae9ee8-717f-49c1-9769-9bedc5daf2e8",
   "metadata": {},
   "source": [
    "# Product and Category Analysis"
   ]
  },
  {
   "cell_type": "markdown",
   "id": "10a124b5-0182-47fb-bbbb-945b62d1944c",
   "metadata": {},
   "source": [
    "## Description\n",
    "This notebook contains an analysis of the sales data focusing on product and category popularity."
   ]
  },
  {
   "cell_type": "markdown",
   "id": "8cb926bc-6a4b-4af4-868b-3df855bbae27",
   "metadata": {},
   "source": [
    "## 1. Import Libraries"
   ]
  },
  {
   "cell_type": "code",
   "execution_count": 11,
   "id": "17621d70-0f6b-4a95-a4f2-f807f5a75eab",
   "metadata": {},
   "outputs": [],
   "source": [
    "import pandas as pd\n",
    "import numpy as np\n",
    "import matplotlib.pyplot as plt\n",
    "import seaborn as sns\n",
    "from sklearn.linear_model import LinearRegression\n",
    "from sklearn.model_selection import train_test_split\n",
    "from sklearn.metrics import mean_squared_error, r2_score"
   ]
  },
  {
   "cell_type": "markdown",
   "id": "85930cda-3506-464d-ad30-40b17106036a",
   "metadata": {},
   "source": [
    "## 2. Load Data"
   ]
  },
  {
   "cell_type": "code",
   "execution_count": 20,
   "id": "2605268d-32ae-4262-a421-1baa51cf6659",
   "metadata": {},
   "outputs": [],
   "source": [
    "df = pd.read_csv('../data/sales-06-07-24.csv')"
   ]
  },
  {
   "cell_type": "code",
   "execution_count": 21,
   "id": "0f6ea585-282a-468e-969a-b5634db20294",
   "metadata": {},
   "outputs": [
    {
     "data": {
      "text/html": [
       "<div>\n",
       "<style scoped>\n",
       "    .dataframe tbody tr th:only-of-type {\n",
       "        vertical-align: middle;\n",
       "    }\n",
       "\n",
       "    .dataframe tbody tr th {\n",
       "        vertical-align: top;\n",
       "    }\n",
       "\n",
       "    .dataframe thead th {\n",
       "        text-align: right;\n",
       "    }\n",
       "</style>\n",
       "<table border=\"1\" class=\"dataframe\">\n",
       "  <thead>\n",
       "    <tr style=\"text-align: right;\">\n",
       "      <th></th>\n",
       "      <th>Invoice Number</th>\n",
       "      <th>Date Sale</th>\n",
       "      <th>Time Sale</th>\n",
       "      <th>Product</th>\n",
       "      <th>Category</th>\n",
       "      <th>Quantity</th>\n",
       "      <th>Unit Price</th>\n",
       "      <th>Total Sale</th>\n",
       "      <th>Payment Method</th>\n",
       "      <th>Seller</th>\n",
       "      <th>Discounts</th>\n",
       "      <th>Taxes</th>\n",
       "      <th>Notes</th>\n",
       "      <th>Remaining Stock</th>\n",
       "    </tr>\n",
       "  </thead>\n",
       "  <tbody>\n",
       "    <tr>\n",
       "      <th>0</th>\n",
       "      <td>6497-964</td>\n",
       "      <td>2024-07-13</td>\n",
       "      <td>17:52:23</td>\n",
       "      <td>Juice</td>\n",
       "      <td>Drinks</td>\n",
       "      <td>5</td>\n",
       "      <td>8.02</td>\n",
       "      <td>40.10</td>\n",
       "      <td>Credit Card</td>\n",
       "      <td>Anna</td>\n",
       "      <td>0.76</td>\n",
       "      <td>7.22</td>\n",
       "      <td>Regular Client</td>\n",
       "      <td>28</td>\n",
       "    </tr>\n",
       "    <tr>\n",
       "      <th>1</th>\n",
       "      <td>3930-318</td>\n",
       "      <td>2024-07-03</td>\n",
       "      <td>02:54:23</td>\n",
       "      <td>Camel</td>\n",
       "      <td>Cigarettes</td>\n",
       "      <td>10</td>\n",
       "      <td>16.70</td>\n",
       "      <td>167.00</td>\n",
       "      <td>Cash</td>\n",
       "      <td>Charles</td>\n",
       "      <td>11.01</td>\n",
       "      <td>30.06</td>\n",
       "      <td>Regular Client</td>\n",
       "      <td>95</td>\n",
       "    </tr>\n",
       "    <tr>\n",
       "      <th>2</th>\n",
       "      <td>2937-511</td>\n",
       "      <td>2024-07-03</td>\n",
       "      <td>15:14:23</td>\n",
       "      <td>Water</td>\n",
       "      <td>Drinks</td>\n",
       "      <td>9</td>\n",
       "      <td>17.23</td>\n",
       "      <td>155.07</td>\n",
       "      <td>Debit</td>\n",
       "      <td>Anna</td>\n",
       "      <td>1.59</td>\n",
       "      <td>27.91</td>\n",
       "      <td>NaN</td>\n",
       "      <td>41</td>\n",
       "    </tr>\n",
       "    <tr>\n",
       "      <th>3</th>\n",
       "      <td>1257-910</td>\n",
       "      <td>2024-07-09</td>\n",
       "      <td>16:52:23</td>\n",
       "      <td>Lucky Strike</td>\n",
       "      <td>Cigarettes</td>\n",
       "      <td>10</td>\n",
       "      <td>5.78</td>\n",
       "      <td>57.80</td>\n",
       "      <td>Credit Card</td>\n",
       "      <td>John</td>\n",
       "      <td>4.90</td>\n",
       "      <td>10.40</td>\n",
       "      <td>NaN</td>\n",
       "      <td>30</td>\n",
       "    </tr>\n",
       "    <tr>\n",
       "      <th>4</th>\n",
       "      <td>7596-465</td>\n",
       "      <td>2024-06-26</td>\n",
       "      <td>00:55:23</td>\n",
       "      <td>Magazine</td>\n",
       "      <td>Others</td>\n",
       "      <td>5</td>\n",
       "      <td>2.57</td>\n",
       "      <td>12.85</td>\n",
       "      <td>Credit Card</td>\n",
       "      <td>Anna</td>\n",
       "      <td>0.50</td>\n",
       "      <td>2.31</td>\n",
       "      <td>NaN</td>\n",
       "      <td>73</td>\n",
       "    </tr>\n",
       "  </tbody>\n",
       "</table>\n",
       "</div>"
      ],
      "text/plain": [
       "  Invoice Number   Date Sale Time Sale       Product    Category  Quantity  \\\n",
       "0       6497-964  2024-07-13  17:52:23         Juice      Drinks         5   \n",
       "1       3930-318  2024-07-03  02:54:23         Camel  Cigarettes        10   \n",
       "2       2937-511  2024-07-03  15:14:23         Water      Drinks         9   \n",
       "3       1257-910  2024-07-09  16:52:23  Lucky Strike  Cigarettes        10   \n",
       "4       7596-465  2024-06-26  00:55:23      Magazine      Others         5   \n",
       "\n",
       "   Unit Price  Total Sale Payment Method  Seller   Discounts   Taxes  \\\n",
       "0        8.02       40.10    Credit Card     Anna        0.76   7.22   \n",
       "1       16.70      167.00           Cash  Charles       11.01  30.06   \n",
       "2       17.23      155.07          Debit     Anna        1.59  27.91   \n",
       "3        5.78       57.80    Credit Card     John        4.90  10.40   \n",
       "4        2.57       12.85    Credit Card     Anna        0.50   2.31   \n",
       "\n",
       "            Notes  Remaining Stock  \n",
       "0  Regular Client               28  \n",
       "1  Regular Client               95  \n",
       "2             NaN               41  \n",
       "3             NaN               30  \n",
       "4             NaN               73  "
      ]
     },
     "execution_count": 21,
     "metadata": {},
     "output_type": "execute_result"
    }
   ],
   "source": [
    "df.head()"
   ]
  },
  {
   "cell_type": "code",
   "execution_count": 47,
   "id": "5ba4717b-2d18-4bc7-91ba-26a8949a3185",
   "metadata": {},
   "outputs": [
    {
     "data": {
      "text/plain": [
       "Index(['Invoice Number', 'Date Sale', 'Time Sale', 'Product', 'Category',\n",
       "       'Quantity', 'Unit Price', 'Total Sale', 'Payment Method', 'Seller',\n",
       "       'Discounts', 'Taxes', 'Notes', 'Remaining Stock'],\n",
       "      dtype='object')"
      ]
     },
     "execution_count": 47,
     "metadata": {},
     "output_type": "execute_result"
    }
   ],
   "source": [
    "df.columns"
   ]
  },
  {
   "cell_type": "markdown",
   "id": "e9aacc05-498e-4e51-bc5b-8c48f0b454bb",
   "metadata": {},
   "source": [
    "## 3. Clean and Prepare Data"
   ]
  },
  {
   "cell_type": "code",
   "execution_count": 25,
   "id": "81548288-ef9a-43db-abc9-1b1a2889ae9d",
   "metadata": {},
   "outputs": [
    {
     "data": {
      "text/plain": [
       "Invoice Number       0\n",
       "Date Sale            0\n",
       "Time Sale            0\n",
       "Product              0\n",
       "Category             0\n",
       "Quantity             0\n",
       "Unit Price           0\n",
       "Total Sale           0\n",
       "Payment Method       0\n",
       "Seller               0\n",
       "Discounts            0\n",
       "Taxes                0\n",
       "Notes              507\n",
       "Remaining Stock      0\n",
       "dtype: int64"
      ]
     },
     "execution_count": 25,
     "metadata": {},
     "output_type": "execute_result"
    }
   ],
   "source": [
    "df.isnull().sum()"
   ]
  },
  {
   "cell_type": "code",
   "execution_count": 26,
   "id": "ad817899-582e-4dd0-a321-4c165c24edba",
   "metadata": {},
   "outputs": [
    {
     "data": {
      "text/plain": [
       "Invoice Number      object\n",
       "Date Sale           object\n",
       "Time Sale           object\n",
       "Product             object\n",
       "Category            object\n",
       "Quantity             int64\n",
       "Unit Price         float64\n",
       "Total Sale         float64\n",
       "Payment Method      object\n",
       "Seller              object\n",
       "Discounts          float64\n",
       "Taxes              float64\n",
       "Notes               object\n",
       "Remaining Stock      int64\n",
       "dtype: object"
      ]
     },
     "execution_count": 26,
     "metadata": {},
     "output_type": "execute_result"
    }
   ],
   "source": [
    "df.dtypes"
   ]
  },
  {
   "cell_type": "code",
   "execution_count": 27,
   "id": "a637b6bc-5c5b-466b-834a-ba801d242dd8",
   "metadata": {},
   "outputs": [],
   "source": [
    "df.columns = df.columns.str.strip()"
   ]
  },
  {
   "cell_type": "code",
   "execution_count": 46,
   "id": "583dab64-d552-4886-9c2f-7ce35898c38a",
   "metadata": {},
   "outputs": [
    {
     "data": {
      "text/plain": [
       "Index(['Invoice Number', 'Date Sale', 'Time Sale', 'Product', 'Category',\n",
       "       'Quantity', 'Unit Price', 'Total Sale', 'Payment Method', 'Seller',\n",
       "       'Discounts', 'Taxes', 'Notes', 'Remaining Stock'],\n",
       "      dtype='object')"
      ]
     },
     "execution_count": 46,
     "metadata": {},
     "output_type": "execute_result"
    }
   ],
   "source": [
    "df.columns"
   ]
  },
  {
   "cell_type": "code",
   "execution_count": 29,
   "id": "45c1ca45-4138-4668-a588-b6858b34d25c",
   "metadata": {},
   "outputs": [
    {
     "data": {
      "text/plain": [
       "<bound method NDFrame.describe of     Invoice Number   Date Sale Time Sale       Product    Category  Quantity  \\\n",
       "0         6497-964  2024-07-13  17:52:23         Juice      Drinks         5   \n",
       "1         3930-318  2024-07-03  02:54:23         Camel  Cigarettes        10   \n",
       "2         2937-511  2024-07-03  15:14:23         Water      Drinks         9   \n",
       "3         1257-910  2024-07-09  16:52:23  Lucky Strike  Cigarettes        10   \n",
       "4         7596-465  2024-06-26  00:55:23      Magazine      Others         5   \n",
       "..             ...         ...       ...           ...         ...       ...   \n",
       "995       2114-833  2024-07-16  17:27:23  Toilet Paper      Others         8   \n",
       "996       3814-222  2024-07-19  04:26:23      Marlboro  Cigarettes         8   \n",
       "997       4440-401  2024-07-11  02:20:23       Cookies     Candies         2   \n",
       "998       3125-727  2024-06-26  12:29:23         Juice      Drinks         8   \n",
       "999       4347-118  2024-06-23  00:36:23       Candies     Candies         2   \n",
       "\n",
       "     Unit Price  Total Sale Payment Method   Seller  Discounts  Taxes  \\\n",
       "0          8.02       40.10    Credit Card     Anna       0.76   7.22   \n",
       "1         16.70      167.00           Cash  Charles      11.01  30.06   \n",
       "2         17.23      155.07          Debit     Anna       1.59  27.91   \n",
       "3          5.78       57.80    Credit Card     John       4.90  10.40   \n",
       "4          2.57       12.85    Credit Card     Anna       0.50   2.31   \n",
       "..          ...         ...            ...      ...        ...    ...   \n",
       "995       11.35       90.80    Credit Card     Anna       6.02  16.34   \n",
       "996        2.58       20.64    Credit Card    Maria       1.14   3.72   \n",
       "997       12.62       25.24    Credit Card     John       2.09   4.54   \n",
       "998       13.79      110.32           Cash     Anna       6.84  19.86   \n",
       "999        1.47        2.94          Debit  Charles       0.17   0.53   \n",
       "\n",
       "                 Notes  Remaining Stock  \n",
       "0       Regular Client               28  \n",
       "1       Regular Client               95  \n",
       "2                  NaN               41  \n",
       "3                  NaN               30  \n",
       "4                  NaN               73  \n",
       "..                 ...              ...  \n",
       "995  Promotion Applied               92  \n",
       "996     Regular Client               75  \n",
       "997                NaN               99  \n",
       "998                NaN               64  \n",
       "999  Promotion Applied               84  \n",
       "\n",
       "[1000 rows x 14 columns]>"
      ]
     },
     "execution_count": 29,
     "metadata": {},
     "output_type": "execute_result"
    }
   ],
   "source": [
    "df.describe"
   ]
  },
  {
   "cell_type": "markdown",
   "id": "33c8d27f-1c4d-4dec-a4c0-a9b46e863a2c",
   "metadata": {},
   "source": [
    "## 4. Descriptive Analysis"
   ]
  },
  {
   "cell_type": "markdown",
   "id": "1ac77461-62cc-448b-b7f6-683ab622e4de",
   "metadata": {},
   "source": [
    "### 4.1 Total Sales by Product"
   ]
  },
  {
   "cell_type": "code",
   "execution_count": 18,
   "id": "5fffa6a2-77e1-4281-9400-adbab9dfa765",
   "metadata": {},
   "outputs": [],
   "source": [
    "total_sales_by_product = df.groupby('Product')['Quantity'].sum().sort_values(ascending=False)"
   ]
  },
  {
   "cell_type": "code",
   "execution_count": 19,
   "id": "597d9149-3fe6-4460-bb81-6f875886ec98",
   "metadata": {},
   "outputs": [
    {
     "data": {
      "text/plain": [
       "Product\n",
       "Lucky Strike         569\n",
       "Camel                444\n",
       "Water                443\n",
       "Magazine             418\n",
       "Marlboro             406\n",
       "Chocolate            397\n",
       "Toilet Paper         391\n",
       "Cookies              378\n",
       "Cigarette Lighter    364\n",
       "Soda                 340\n",
       "Juice                334\n",
       "Beer                 320\n",
       "Chewing gums         319\n",
       "Candies              307\n",
       "Name: Quantity, dtype: int64"
      ]
     },
     "execution_count": 19,
     "metadata": {},
     "output_type": "execute_result"
    }
   ],
   "source": [
    "total_sales_by_product"
   ]
  },
  {
   "cell_type": "markdown",
   "id": "2c7095fa-6aba-4e5b-b604-9d010f2e3415",
   "metadata": {},
   "source": [
    "### 4.2 Total Sales by Category"
   ]
  },
  {
   "cell_type": "code",
   "execution_count": 20,
   "id": "a507cddf-a34a-4eb8-8742-b13d1ed87315",
   "metadata": {},
   "outputs": [],
   "source": [
    "total_sales_by_category = df.groupby('Category')['Quantity'].sum().sort_values(ascending=False)"
   ]
  },
  {
   "cell_type": "code",
   "execution_count": 21,
   "id": "c74b587a-ca9e-4d3c-9fb5-44627c6cbb33",
   "metadata": {},
   "outputs": [
    {
     "data": {
      "text/plain": [
       "Category\n",
       "Drinks        1437\n",
       "Cigarettes    1419\n",
       "Candies       1401\n",
       "Others        1173\n",
       "Name: Quantity, dtype: int64"
      ]
     },
     "execution_count": 21,
     "metadata": {},
     "output_type": "execute_result"
    }
   ],
   "source": [
    "total_sales_by_category"
   ]
  },
  {
   "cell_type": "markdown",
   "id": "b41fcdd1-32ae-416b-8048-c264f822ea97",
   "metadata": {},
   "source": [
    "## 5. Data Visualization"
   ]
  },
  {
   "cell_type": "markdown",
   "id": "277d99df-fd2e-499a-83e5-5cc1764ad787",
   "metadata": {},
   "source": [
    "### 5.1 Total Sales by Product"
   ]
  },
  {
   "cell_type": "code",
   "execution_count": 23,
   "id": "5b504b60-59d9-4bfd-9f47-0ee590b49881",
   "metadata": {},
   "outputs": [],
   "source": [
    "sns.set(style=\"whitegrid\")"
   ]
  },
  {
   "cell_type": "code",
   "execution_count": 24,
   "id": "39343866-25d1-45de-873f-06920d980ae7",
   "metadata": {},
   "outputs": [
    {
     "data": {
      "image/png": "[encoded data removed]",
      "text/plain": [
       "<Figure size 1200x600 with 1 Axes>"
      ]
     },
     "metadata": {},
     "output_type": "display_data"
    }
   ],
   "source": [
    "plt.figure(figsize=(12, 6))\n",
    "sns.barplot(x=total_sales_by_product.index, y=total_sales_by_product.values, palette='viridis')\n",
    "plt.xticks(rotation=90)\n",
    "plt.title('Total Sales by Product')\n",
    "plt.xlabel('Product')\n",
    "plt.ylabel('Total Quantity Sold')\n",
    "plt.show()"
   ]
  },
  {
   "cell_type": "markdown",
   "id": "ebaebaae-801d-4fa7-b772-e6d01f4005ee",
   "metadata": {},
   "source": [
    "### 5.2 Total Sales by Category"
   ]
  },
  {
   "cell_type": "code",
   "execution_count": 26,
   "id": "f51f4002-643e-47bf-9e85-a54b025531ce",
   "metadata": {},
   "outputs": [
    {
     "data": {
      "image/png": "[encoded data removed]",
      "text/plain": [
       "<Figure size 1200x600 with 1 Axes>"
      ]
     },
     "metadata": {},
     "output_type": "display_data"
    }
   ],
   "source": [
    "plt.figure(figsize=(12, 6))\n",
    "sns.barplot(x=total_sales_by_category.index, y=total_sales_by_category.values, palette='viridis')\n",
    "plt.title('Total Sales by Category')\n",
    "plt.xlabel('Category')\n",
    "plt.ylabel('Total Quantity Sold')\n",
    "plt.show()"
   ]
  },
  {
   "cell_type": "markdown",
   "id": "9b59cb12-c79c-4af2-ab73-05aa390799f7",
   "metadata": {},
   "source": [
    "## 6. Linear Regression Analysis"
   ]
  },
  {
   "cell_type": "markdown",
   "id": "795e5993-9c59-49fd-bb34-a495d2110b89",
   "metadata": {},
   "source": [
    "### 6.1 Prepare Data for Regression"
   ]
  },
  {
   "cell_type": "code",
   "execution_count": 30,
   "id": "e256e0dd-ee58-4980-9623-8290dd02d8fc",
   "metadata": {},
   "outputs": [],
   "source": [
    "regression_df = df[['Quantity', 'Unit Price']]"
   ]
  },
  {
   "cell_type": "code",
   "execution_count": 32,
   "id": "9c040435-4727-40c9-b6ae-33fe54969c35",
   "metadata": {},
   "outputs": [],
   "source": [
    "regression_df = regression_df[(regression_df['Unit Price'] > 0) & (regression_df['Quantity'] > 0)]"
   ]
  },
  {
   "cell_type": "code",
   "execution_count": 34,
   "id": "63ccf26d-1281-48de-9388-be43bd5c48c9",
   "metadata": {},
   "outputs": [],
   "source": [
    "X = regression_df[['Unit Price']]\n",
    "y = regression_df['Quantity']"
   ]
  },
  {
   "cell_type": "code",
   "execution_count": 36,
   "id": "780dd09b-9a8b-42c2-9e14-f6768d2c45f1",
   "metadata": {},
   "outputs": [],
   "source": [
    "X_train, X_test, y_train, y_test = train_test_split(X, y, test_size=0.2, random_state=42)"
   ]
  },
  {
   "cell_type": "markdown",
   "id": "dcc1bfc2-87fb-4721-b4a6-60e2fe11416a",
   "metadata": {},
   "source": [
    "### 6.2 Perform Regression"
   ]
  },
  {
   "cell_type": "code",
   "execution_count": 38,
   "id": "1f1c6ea2-ac43-48cc-8f2b-567d85e85792",
   "metadata": {},
   "outputs": [],
   "source": [
    "model = LinearRegression()"
   ]
  },
  {
   "cell_type": "code",
   "execution_count": 39,
   "id": "b18602df-b746-434f-a096-b0fb1a0a9436",
   "metadata": {},
   "outputs": [
    {
     "data": {
      "text/html": [
       "<style>#sk-container-id-1 {color: black;background-color: white;}#sk-container-id-1 pre{padding: 0;}#sk-container-id-1 div.sk-toggleable {background-color: white;}#sk-container-id-1 label.sk-toggleable__label {cursor: pointer;display: block;width: 100%;margin-bottom: 0;padding: 0.3em;box-sizing: border-box;text-align: center;}#sk-container-id-1 label.sk-toggleable__label-arrow:before {content: \"▸\";float: left;margin-right: 0.25em;color: #696969;}#sk-container-id-1 label.sk-toggleable__label-arrow:hover:before {color: black;}#sk-container-id-1 div.sk-estimator:hover label.sk-toggleable__label-arrow:before {color: black;}#sk-container-id-1 div.sk-toggleable__content {max-height: 0;max-width: 0;overflow: hidden;text-align: left;background-color: #f0f8ff;}#sk-container-id-1 div.sk-toggleable__content pre {margin: 0.2em;color: black;border-radius: 0.25em;background-color: #f0f8ff;}#sk-container-id-1 input.sk-toggleable__control:checked~div.sk-toggleable__content {max-height: 200px;max-width: 100%;overflow: auto;}#sk-container-id-1 input.sk-toggleable__control:checked~label.sk-toggleable__label-arrow:before {content: \"▾\";}#sk-container-id-1 div.sk-estimator input.sk-toggleable__control:checked~label.sk-toggleable__label {background-color: #d4ebff;}#sk-container-id-1 div.sk-label input.sk-toggleable__control:checked~label.sk-toggleable__label {background-color: #d4ebff;}#sk-container-id-1 input.sk-hidden--visually {border: 0;clip: rect(1px 1px 1px 1px);clip: rect(1px, 1px, 1px, 1px);height: 1px;margin: -1px;overflow: hidden;padding: 0;position: absolute;width: 1px;}#sk-container-id-1 div.sk-estimator {font-family: monospace;background-color: #f0f8ff;border: 1px dotted black;border-radius: 0.25em;box-sizing: border-box;margin-bottom: 0.5em;}#sk-container-id-1 div.sk-estimator:hover {background-color: #d4ebff;}#sk-container-id-1 div.sk-parallel-item::after {content: \"\";width: 100%;border-bottom: 1px solid gray;flex-grow: 1;}#sk-container-id-1 div.sk-label:hover label.sk-toggleable__label {background-color: #d4ebff;}#sk-container-id-1 div.sk-serial::before {content: \"\";position: absolute;border-left: 1px solid gray;box-sizing: border-box;top: 0;bottom: 0;left: 50%;z-index: 0;}#sk-container-id-1 div.sk-serial {display: flex;flex-direction: column;align-items: center;background-color: white;padding-right: 0.2em;padding-left: 0.2em;position: relative;}#sk-container-id-1 div.sk-item {position: relative;z-index: 1;}#sk-container-id-1 div.sk-parallel {display: flex;align-items: stretch;justify-content: center;background-color: white;position: relative;}#sk-container-id-1 div.sk-item::before, #sk-container-id-1 div.sk-parallel-item::before {content: \"\";position: absolute;border-left: 1px solid gray;box-sizing: border-box;top: 0;bottom: 0;left: 50%;z-index: -1;}#sk-container-id-1 div.sk-parallel-item {display: flex;flex-direction: column;z-index: 1;position: relative;background-color: white;}#sk-container-id-1 div.sk-parallel-item:first-child::after {align-self: flex-end;width: 50%;}#sk-container-id-1 div.sk-parallel-item:last-child::after {align-self: flex-start;width: 50%;}#sk-container-id-1 div.sk-parallel-item:only-child::after {width: 0;}#sk-container-id-1 div.sk-dashed-wrapped {border: 1px dashed gray;margin: 0 0.4em 0.5em 0.4em;box-sizing: border-box;padding-bottom: 0.4em;background-color: white;}#sk-container-id-1 div.sk-label label {font-family: monospace;font-weight: bold;display: inline-block;line-height: 1.2em;}#sk-container-id-1 div.sk-label-container {text-align: center;}#sk-container-id-1 div.sk-container {/* jupyter's `normalize.less` sets `[hidden] { display: none; }` but bootstrap.min.css set `[hidden] { display: none !important; }` so we also need the `!important` here to be able to override the default hidden behavior on the sphinx rendered scikit-learn.org. See: https://github.com/scikit-learn/scikit-learn/issues/21755 */display: inline-block !important;position: relative;}#sk-container-id-1 div.sk-text-repr-fallback {display: none;}</style><div id=\"sk-container-id-1\" class=\"sk-top-container\"><div class=\"sk-text-repr-fallback\"><pre>LinearRegression()</pre><b>In a Jupyter environment, please rerun this cell to show the HTML representation or trust the notebook. <br />On GitHub, the HTML representation is unable to render, please try loading this page with nbviewer.org.</b></div><div class=\"sk-container\" hidden><div class=\"sk-item\"><div class=\"sk-estimator sk-toggleable\"><input class=\"sk-toggleable__control sk-hidden--visually\" id=\"sk-estimator-id-1\" type=\"checkbox\" checked><label for=\"sk-estimator-id-1\" class=\"sk-toggleable__label sk-toggleable__label-arrow\">LinearRegression</label><div class=\"sk-toggleable__content\"><pre>LinearRegression()</pre></div></div></div></div></div>"
      ],
      "text/plain": [
       "LinearRegression()"
      ]
     },
     "execution_count": 39,
     "metadata": {},
     "output_type": "execute_result"
    }
   ],
   "source": [
    "model.fit(X_train, y_train)"
   ]
  },
  {
   "cell_type": "code",
   "execution_count": 41,
   "id": "06b8b931-f7b8-4d99-975d-d55cf0a134da",
   "metadata": {},
   "outputs": [],
   "source": [
    "y_pred = model.predict(X_test)"
   ]
  },
  {
   "cell_type": "code",
   "execution_count": 42,
   "id": "2bc54636-fd18-4787-9dc4-6f4d1f8974b7",
   "metadata": {},
   "outputs": [],
   "source": [
    "mse = mean_squared_error(y_test, y_pred)\n",
    "r2 = r2_score(y_test, y_pred)"
   ]
  },
  {
   "cell_type": "code",
   "execution_count": 51,
   "id": "12815f56-d47f-4551-9398-9290fcf095a0",
   "metadata": {},
   "outputs": [
    {
     "data": {
      "text/plain": [
       "'Mean Squared Error: 7.992390141244711'"
      ]
     },
     "execution_count": 51,
     "metadata": {},
     "output_type": "execute_result"
    }
   ],
   "source": [
    "f\"Mean Squared Error: {mse}\""
   ]
  },
  {
   "cell_type": "code",
   "execution_count": 52,
   "id": "43c7686d-8c39-418a-befb-538bb166769d",
   "metadata": {},
   "outputs": [
    {
     "data": {
      "text/plain": [
       "'R^2 Score: -0.04043533444349934'"
      ]
     },
     "execution_count": 52,
     "metadata": {},
     "output_type": "execute_result"
    }
   ],
   "source": [
    "f\"R^2 Score: {r2}\""
   ]
  },
  {
   "cell_type": "markdown",
   "id": "9136d1c6-3019-4259-81de-32f14dc09134",
   "metadata": {},
   "source": [
    "### 6.3 Visualize Regression Results"
   ]
  },
  {
   "cell_type": "code",
   "execution_count": 44,
   "id": "26ef83af-a061-47de-957f-b70784cad908",
   "metadata": {},
   "outputs": [
    {
     "data": {
      "image/png": "[encoded data removed]",
      "text/plain": [
       "<Figure size 1000x600 with 1 Axes>"
      ]
     },
     "metadata": {},
     "output_type": "display_data"
    }
   ],
   "source": [
    "plt.figure(figsize=(10, 6))\n",
    "plt.scatter(X_test, y_test, color='blue', label='Actual Sales')\n",
    "plt.plot(X_test, y_pred, color='red', linewidth=2, label='Predicted Sales')\n",
    "plt.title('Unit Price vs Quantity Sold')\n",
    "plt.xlabel('Unit Price')\n",
    "plt.ylabel('Quantity Sold')\n",
    "plt.legend()\n",
    "plt.show()"
   ]
  },
  {
   "cell_type": "markdown",
   "id": "3d4a4131-7c52-4034-a237-1f8307bf9b12",
   "metadata": {},
   "source": [
    "## 7. Conclusions and Results"
   ]
  },
  {
   "cell_type": "markdown",
   "id": "66a57032-15cf-404a-86f3-0959b2e10178",
   "metadata": {},
   "source": [
    "### Sales Analysis by Category"
   ]
  },
  {
   "cell_type": "markdown",
   "id": "c026f640-5d04-4362-b6d5-484825bb511a",
   "metadata": {},
   "source": [
    "The \"Total Sales by Category\" chart shows the following observations:\n",
    "\n",
    "1. **Drinks**: This category is the top seller with a total quantity of approximately 1400 units. This suggests that drinks are a crucial part of the inventory and represent a significant portion of the kiosk's sales.\n",
    "\n",
    "2. **Cigarettes**: With a total sales quantity similar to drinks, cigarettes are also among the top-selling products, indicating high demand.\n",
    "\n",
    "3. **Candies**: This category also shows a good sales volume, slightly below drinks and cigarettes.\n",
    "\n",
    "4. **Others**: Although this category is the least sold compared to the other three, it still shows a significant sales volume."
   ]
  },
  {
   "cell_type": "markdown",
   "id": "193eaa26-b7ec-484a-95ce-33f141307c14",
   "metadata": {},
   "source": [
    "### Sales Analysis by Product"
   ]
  },
  {
   "cell_type": "markdown",
   "id": "fb87f0de-f8dd-4f4c-8a86-b119d217ea30",
   "metadata": {},
   "source": [
    "The \"Total Sales by Product\" chart provides a detailed analysis of individual products within the categories:\n",
    "\n",
    "1. **Lucky Strike**: This product is the top seller with a total quantity of over 500 units. This suggests that Lucky Strike cigarettes are extremely popular among kiosk customers.\n",
    "\n",
    "2. **Camel and Water**: These products also have high sales, close to 400 units each, indicating their popularity.\n",
    "\n",
    "3. **Magazine and Marlboro**: These products follow in popularity with significant sales volumes.\n",
    "\n",
    "4. **Other Products**: Products such as chocolate, toilet paper, cookies, cigarette lighters, soda, juice, beer, chewing gums, and other candies also show notable sales, although in smaller quantities compared to the leading products."
   ]
  },
  {
   "cell_type": "markdown",
   "id": "d67a535c-83c8-4f2b-a865-e4b77e29c139",
   "metadata": {},
   "source": [
    "### Linear Regression Analysis"
   ]
  },
  {
   "cell_type": "markdown",
   "id": "66539c00-e022-4abe-a5ae-d6da0f454ef0",
   "metadata": {},
   "source": [
    "The objective of the linear regression analysis was to understand how the unit price affects the quantity sold of the products.\n",
    "\n",
    "In this graph, the blue dots represent the actual sales (quantity sold versus unit price), and the red line shows the relationship predicted by the linear regression model.\n",
    "\n",
    "Interpretation of the Graph:\n",
    "\n",
    "- General Trend: The regression line is almost horizontal, suggesting that there is no significant relationship between unit price and quantity sold. In other words, changes in unit price do not seem to have a considerable impact on the quantity of products sold.\n",
    "\n",
    "- Data Distribution: The dispersion of the blue dots indicates that the quantity sold varies widely for different unit prices, reinforcing the conclusion that price is not a determining factor for sales in this specific case.\n",
    "\n",
    "- Coefficient of Determination (R²): If we check the coefficient of determination (R²), we likely find a very low value, confirming that the linear regression model does not well explain the variability in quantity sold based on unit price.\n"
   ]
  },
  {
   "cell_type": "markdown",
   "id": "5c80976c-f181-4c74-9050-5dad2a82d172",
   "metadata": {},
   "source": [
    "## 8. Recommendations"
   ]
  },
  {
   "cell_type": "markdown",
   "id": "5d9695d3-2835-499d-9610-f80db3cd2f54",
   "metadata": {},
   "source": [
    "1. **Inventory Management**:\n",
    "   - **Increase stock levels** of drinks and cigarettes, especially popular brands like Lucky Strike and Camel, to avoid stockouts and maximize sales.\n",
    "   - **Optimize inventory** of less sold products to reduce storage costs and ensure proper product rotation.\n",
    "\n",
    "2. **Marketing Strategies**:\n",
    "   - **Promotions**: Implement promotions or discounts on categories and products with lower sales to increase demand.\n",
    "   - **Bundled Offers**: Create bundled offers with popular products to boost sales of less sold items.\n",
    "\n",
    "3. **Product Selection**:\n",
    "   - **Introduce new products** in popular categories like drinks and candies to attract more customers and maintain interest.\n",
    "   - **Evaluate the performance** of low-selling products and consider replacing them with more in-demand alternatives.\n",
    "\n",
    "4. **Pricing Strategies**: Since unit price does not seem to significantly influence the quantity sold, we could focus on other pricing strategies, such as volume discounts, to boost sales.\n",
    "\n",
    "5. **Other Factors**: Consider other factors that might be influencing sales, such as product placement within the store, special promotions, or competition. Additional analysis might be necessary to identify these factors.\n",
    "\n",
    "6. **Further Analysis:** It would be useful to conduct more analysis to see if there are subgroups of products or categories where price could have a different impact. More complex regression models or multivariate analysis could also be considered."
   ]
  }
 ],
 "metadata": {
  "kernelspec": {
   "display_name": "Python 3 (ipykernel)",
   "language": "python",
   "name": "python3"
  },
  "language_info": {
   "codemirror_mode": {
    "name": "ipython",
    "version": 3
   },
   "file_extension": ".py",
   "mimetype": "text/x-python",
   "name": "python",
   "nbconvert_exporter": "python",
   "pygments_lexer": "ipython3",
   "version": "3.11.7"
  }
 },
 "nbformat": 4,
 "nbformat_minor": 5
}
